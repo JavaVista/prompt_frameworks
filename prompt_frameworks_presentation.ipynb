{
 "cells": [
  {
   "cell_type": "markdown",
   "id": "95f758e7",
   "metadata": {
    "editable": false,
    "slideshow": {
     "slide_type": "slide"
    },
    "tags": []
   },
   "source": [
    "# **Prompt Engineering & Frameworks**\n",
    "\n",
    "Welcome to this presentation on **Prompt Engineering** and how different **Prompt Frameworks** can help you get the best results from AI models. We’ll also see how to incorporate Google’s **Gemini** for **developer**, **project planning**, and **everyday** tasks."
   ]
  },
  {
   "cell_type": "markdown",
   "id": "33965083",
   "metadata": {
    "editable": false,
    "slideshow": {
     "slide_type": "slide"
    },
    "tags": []
   },
   "source": [
    "## **What Is Prompt Engineering?**\n",
    "\n",
    "**Prompt engineering** is all about crafting the right instructions for large language models (LLMs). By providing the appropriate context, format, style, or audience details, you help the AI produce more accurate and relevant answers.\n",
    "\n",
    "### **Why Use Prompt Frameworks?**\n",
    "- They provide **clarity**—ensuring you specify crucial information up front.\n",
    "- They keep prompts **consistent**—useful for repeated tasks or multiple requests.\n",
    "- They reduce **ambiguity**—leading to fewer misinterpretations, fewer hallucinations, and better AI outputs.\n",
    "- They can contribute to saving money on tokens, which may reduce both costs and valuable time."
   ]
  },
  {
   "cell_type": "markdown",
   "id": "10283e6c",
   "metadata": {
    "slideshow": {
     "slide_type": "slide"
    }
   },
   "source": [
    "## **Top Free AI Services**\n",
    "\n",
    "| **AI Service**         | **Description**                                                                        | **Token Limitations**                        |\n",
    "|------------------------|----------------------------------------------------------------------------------------|----------------------------------------------|\n",
    "| **ChatGPT (Free)**     | Versatile conversational AI by OpenAI, suitable for a wide range of tasks             | GPT-3.5 free tier supports ~4,000 tokens per session; subject to usage limits      |\n",
    "| **Microsoft Copilot**  | All-in-one AI assistant integrated with Microsoft apps and services                    | Typically handles around 2,048 tokens per request                                  |\n",
    "| **Anthropic’s Claude** | Privacy-focused AI capable of handling sensitive queries with minimal data retention   | Averages about 1,000 tokens per prompt on the free tier                           |\n",
    "| **Gemini 1.5 Pro** | Privacy-focused AI capable of handling sensitive queries with minimal data retention   | Averages about 32,000 tokens per minute on the free tier                           |\n",
    "\n",
    "Using the right prompt framework can help you conserve these precious tokens by crafting more efficient and effective prompts. This ensures you get the most out of your AI interactions, saving both costs and time for when you need them most.\n"
   ]
  },
  {
   "cell_type": "markdown",
   "id": "72eda6f5",
   "metadata": {
    "editable": false,
    "jp-MarkdownHeadingCollapsed": true,
    "slideshow": {
     "slide_type": "slide"
    },
    "tags": []
   },
   "source": [
    "## **Popular Prompt Frameworks**\n",
    "Below is a table of frameworks, their strengths, weaknesses/limitations, whether they’re good for developer (Dev) tasks or everyday tasks, plus a sample usage.\n",
    "\n",
    "| **Framework (Abbrev.)**           | **Strengths**                                                                                      | **Weaknesses / Limitations**                                                                                                 | **Good for Dev?**                                                                                   | **Good for Everyday?**                                                                                    | **Example Usage**                                                                                                                                                                                                                                                           |\n",
    "|-----------------------------------|----------------------------------------------------------------------------------------------------|-------------------------------------------------------------------------------------------------------------------------------|------------------------------------------------------------------------------------------------------|----------------------------------------------------------------------------------------------------------|-----------------------------------------------------------------------------------------------------------------------------------------------------------------------------------------------------------------------------------------------------------------------------|\n",
    "| **TCREI (Google recommends)**     | - **Structured iterative approach** <br>- Emphasis on evaluation & improvement <br>- **Reference-based** (e.g., code snippets, style guides) | - Requires **high-quality references** <br>- Time-consuming for simple tasks <br>- Can limit AI creativity if overly example-driven | **Yes** (Complex dev projects, or tasks with strict style/format)                                       | **Yes** (Any scenario where references—like writing samples or style guides—improve AI output)           | **Task**: “Create a REST API endpoint.”<br>**Context**: “E-commerce system, ensure scalability/security.”<br>**Reference**: “Here’s our current API structure.”<br>**Evaluate**: “Check best REST API design practices.”<br>**Iterate**: “Refine based on feedback, add pagination if needed.” |\n",
    "| **CRISP**                 | - Clear breakdown of **Context, Role, Input, Steps, Purpose** <br>- Purpose-driven approach         | - Can be **too detailed** for quick tasks <br>- Requires clarity in each step                                                 | **Yes** (Great for detailing tech tasks, debugging, or multi-step processes)                            | Possibly (Might be overkill for casual tasks)                                                               | (**Role**) “You are a backend engineer. Given the system architecture (**Context**), fix the login bug. Outline steps to debug and provide a summary (**Steps & Purpose**).”                                                                                                                                                  |\n",
    "| **SCQA**                   | - **Narrative** structure (*Situation → Complication → Question → Answer*) <br>- Great for stories & problem-solving | - Less explicit about **format** or role <br>- Not always ideal for highly technical tasks                                     | Maybe (Good for explaining complex scenarios in a story format)                                        | **Yes** (Useful for everyday problems where a narrative helps clarify issues)                             | “Our current payroll system is outdated (**Situation**). We’re missing deadlines (**Complication**). How to reduce errors? (**Question**). Provide a recommended upgrade plan (**Answer**).”                                                                                                                           |\n",
    "| **RTF**                     | - Very **straightforward** (*Role, Task, Format*) <br>- Quick and simple                           | - Minimal context <br>- Might need extra detail for more complex tasks                                                         | **Yes** (Quick dev tasks or minor bug fixes)                                                           | **Yes** (Perfect for short emails, texts, or everyday prompts)                                             | “**Role**: ‘You’re a personal assistant.’ **Task**: ‘Draft an email apologizing for a delay.’ **Format**: ‘Short paragraph.’”                                                                                                                                                                                      |\n",
    "| **Chain-of-Thought (COT)**        | - Encourages **explicit reasoning** <br>- Clarifies **complex processes**                          | - Can get **verbose** if you show every reasoning step <br>- May **slow response time**                                        | **Yes** (Excellent for **debugging** or in-depth problem-solving)                                      | Possibly (If you **want step-by-step** reasoning for everyday tasks)                                       | “Explain how you arrived at each conclusion for optimizing this code, step by step. Then provide the final solution.”                                                                                                                                                                                               |\n",
    "| **RASCEF**               | - **Comprehensive**: Role, Audience, Style, Context, Examples, Format <br>- Great for formal or multi-stakeholder tasks | - Can be **lengthy** <br>- Might over-specify or limit creative freedom                                                        | Maybe (Dev communications needing multiple perspectives, e.g., user vs. dev audience)                  | **Yes** (Ideal for formal or varied social/business situations)                                           | “**Role**: ‘You’re a career counselor.’ **Audience**: ‘Recent grads.’ **Style**: ‘Friendly yet professional.’ **Context**: ‘Tips for a job fair.’ **Examples**: ‘Here’s a sample intro speech.’ **Format**: ‘Numbered list.’”                                                                                          |\n",
    "\n"
   ]
  },
  {
   "cell_type": "markdown",
   "id": "2dc0d5a9",
   "metadata": {
    "slideshow": {
     "slide_type": "slide"
    }
   },
   "source": [
    "## **Best Practices for Optimal Usage**\n",
    "\n",
    "**Actionable Tips for Effective Usage**\n",
    "\n",
    "- **Focus on Complex Tasks**: Rely on the model for large-scale, intricate projects rather than simple or routine queries.  \n",
    "- **Integrate Roles**: For tasks like coding, combine multiple roles (e.g., architect and engineer) to streamline workflows and boost efficiency.  \n",
    "- **Provide Comprehensive Context**: Supply detailed instructions upfront to minimize clarification needs and ensure accurate results.\n",
    "\n",
    "**Additional Strategies**\n",
    "\n",
    "- **Master Prompt Engineering**: Invest time in learning how to structure inputs effectively, ensuring the model delivers accurate and actionable outputs.  \n",
    "- **Set Realistic Expectations**: Remember that complex tasks may take longer to process, so plan accordingly to avoid unnecessary delays.  \n",
    "- **Use It Collaboratively**: Recognize that the model is designed to augment human expertise rather than replace it—think of it as a partner in problem-solving.\n"
   ]
  },
  {
   "cell_type": "markdown",
   "id": "423c99f5",
   "metadata": {
    "editable": true,
    "slideshow": {
     "slide_type": "slide"
    },
    "tags": []
   },
   "source": [
    "## **Using Gemini**\n",
    "We’ll demonstrate how to import Gemini (as per [Google’s Gemini Cookbook](https://github.com/google-gemini/cookbook)) and use these frameworks for three scenarios:\n",
    "1. A **developer** scenario (using **CRISP**)\n",
    "2. A **project planning** scenario (using **TCREI**)\n",
    "3. An **everyday** scenario (using **RTF**)\n",
    "\n",
    "Feel free to adapt these examples to any other framework."
   ]
  },
  {
   "cell_type": "code",
   "execution_count": 1,
   "id": "a3eb6b9d",
   "metadata": {
    "editable": true,
    "slideshow": {
     "slide_type": "fragment"
    },
    "tags": []
   },
   "outputs": [],
   "source": [
    "# Example code to import Gemini\n",
    "# (Adapted from https://github.com/google-gemini/cookbook)\n",
    "import sys\n",
    "import os\n",
    "from dotenv import load_dotenv\n",
    "from IPython.display import display, Markdown\n",
    "try:\n",
    "    import google.generativeai as genai\n",
    "except ImportError:\n",
    "    print(\"Gemini API not installed. Please install or reference the correct package.\")\n",
    "    sys.exit(0)\n",
    "\n",
    "load_dotenv()\n",
    "\n",
    "# genai.configure(api_key=\"YOUR_API_KEY\")\n",
    "genai.configure(api_key=os.getenv('GEMINI_API_KEY'))\n"
   ]
  },
  {
   "cell_type": "markdown",
   "id": "8e690b03",
   "metadata": {
    "editable": true,
    "slideshow": {
     "slide_type": "slide"
    },
    "tags": []
   },
   "source": [
    "### **1. Developer Scenario with CRISP**\n",
    "Imagine you have a Node.js application returning 500 errors. You suspect an issue in a specific piece of middleware.\n",
    "\n",
    "#### **CRISP Breakdown**\n",
    "- **Context**: Node.js, HTTP 500 errors suspected in middleware.\n",
    "- **Role**: You are a senior backend engineer.\n",
    "- **Input**: Provide snippet of the middleware.\n",
    "- **Steps**: Outline debugging approach.\n",
    "- **Purpose**: Fix the 500 errors and return correct status codes."
   ]
  },
  {
   "cell_type": "code",
   "execution_count": 6,
   "id": "7774386e",
   "metadata": {
    "editable": true,
    "slideshow": {
     "slide_type": "slide"
    },
    "tags": []
   },
   "outputs": [],
   "source": [
    "crisp_prompt_dev = '''\n",
    "Explain how you arrived at each conclusion for optimizing this code, step by step. Then provide the final solution.\n",
    "interface User {\n",
    "  id: number;\n",
    "  name: string;\n",
    "  email: string;\n",
    "}\n",
    "\n",
    "function getUsers(): User[] {\n",
    "  // Simulate fetching users from an API\n",
    "  return [\n",
    "    { id: 1, name: \"Alice\", email: \"alice@example.com\" },\n",
    "    { id: 2, name: \"Bob\", email: \"bob@example.com\" },\n",
    "  ];\n",
    "}\n",
    "\n",
    "function findUserById(id: number): User | undefined {\n",
    "  const users = getUsers();\n",
    "\n",
    "  const usersCopy = [...users];  \n",
    "\n",
    "  for (let i = 0; i < usersCopy.length; i++) {\n",
    "    if (usersCopy[i].id === id) {\n",
    "      return usersCopy[i];\n",
    "    }\n",
    "  }\n",
    "\n",
    "  return undefined;\n",
    "}\n",
    "\n",
    "const user = findUserById(2);\n",
    "console.log(user);\n",
    "'''\n",
    "model = genai.GenerativeModel('gemini-1.5-flash')\n",
    "\n",
    "framework_prompt = \"### **CRISP Prompt for Developer**:\\n---\\n\" + crisp_prompt_dev\n",
    "\n",
    "# Optional: Display the prompt in a Markdown format\n",
    "# display(Markdown(framework_prompt))"
   ]
  },
  {
   "cell_type": "code",
   "execution_count": null,
   "id": "dd05a9fb",
   "metadata": {
    "editable": true,
    "slideshow": {
     "slide_type": "subslide"
    },
    "tags": []
   },
   "outputs": [],
   "source": [
    "# Call to Gemini:\n",
    "response_dev = model.generate_content(crisp_prompt_dev)\n",
    "display(Markdown(\"\\n### *Gemini Response*:\\n\" + response_dev.text))"
   ]
  },
  {
   "cell_type": "markdown",
   "id": "a223afe7",
   "metadata": {
    "slideshow": {
     "slide_type": "slide"
    }
   },
   "source": [
    "### **2. Project Planning Scenario with TCREI**\n",
    "\n",
    "Suppose you are planning a new feature for a mobile app and need to outline the development plan.\n",
    "\n",
    "#### **TCREI Breakdown**\n",
    "\n",
    "- **Task**: Create a development plan for the new feature.\n",
    "- **Context**: The feature is a user profile page with social media integration.\n",
    "- **Reference**: Consider the current app's design guidelines.\n",
    "- **Evaluation**: Ensure the plan aligns with best practices for UX/UI.\n",
    "- **Iterate**: Refine the plan based on feedback.\n"
   ]
  },
  {
   "cell_type": "code",
   "execution_count": 30,
   "id": "98edebe0",
   "metadata": {
    "slideshow": {
     "slide_type": "slide"
    }
   },
   "outputs": [],
   "source": [
    "tcrei_prompt_project_planning = '''\n",
    "Task: Create a concise development plan for a new feature.\n",
    "\n",
    "Context: We are adding a user profile page to our mobile app, including social media integration (e.g., Facebook, Twitter).\n",
    "\n",
    "Reference: Here are our current app's design guidelines and style guides.\n",
    "\n",
    "Evaluation: Ensure that the plan follows best practices for mobile UX/UI and security.\n",
    "\n",
    "Iterate: Be prepared to refine the plan based on stakeholder feedback.\n",
    "'''\n",
    "\n",
    "# Initialize the Gemini model\n",
    "model = genai.GenerativeModel('gemini-1.5-flash')\n",
    "\n",
    "# Optional: Display the prompt in a Markdown format\n",
    "# display(Markdown(\"### **TCREI Prompt for Project Planning**:\\\\n---\\\\n\" + tcrei_prompt))"
   ]
  },
  {
   "cell_type": "code",
   "execution_count": 31,
   "id": "f4c50ea3",
   "metadata": {
    "slideshow": {
     "slide_type": "subslide"
    }
   },
   "outputs": [
    {
     "data": {
      "text/markdown": [
       "\n",
       "### *Gemini Response*:\n",
       "## User Profile Page Development Plan\n",
       "\n",
       "**Goal:** Implement a user profile page with social media integration.\n",
       "\n",
       "**Phase 1: Design & Planning (1 week)**\n",
       "\n",
       "* **Wireframing & Mockups:**  Create low-fidelity wireframes and high-fidelity mockups of the profile page, adhering to existing design guidelines.  Focus on intuitive navigation and clear visual hierarchy.  Include considerations for different screen sizes.\n",
       "* **User Story Mapping:** Define core user stories (e.g., \"As a user, I can update my profile picture,\" \"As a user, I can connect my Twitter account\"). Prioritize stories based on value and complexity.\n",
       "* **API Integration Plan:** Outline the process for integrating with chosen social media platforms (Facebook, Twitter), specifying authentication methods (OAuth 2.0 preferred) and data handling.  Address data privacy concerns and compliance with relevant regulations (GDPR, CCPA).\n",
       "* **Security Review:**  Conduct a preliminary security review of the planned integration, focusing on data encryption and protection against vulnerabilities (OWASP Top 10).\n",
       "\n",
       "**Phase 2: Development (2 weeks)**\n",
       "\n",
       "* **Backend Development:** Implement API endpoints for profile data management and social media integration.  Focus on robust error handling and data validation.\n",
       "* **Frontend Development:** Develop the UI based on approved mockups, ensuring responsiveness across devices. Implement secure authentication and data handling.\n",
       "* **Testing (Unit & Integration):** Conduct thorough unit and integration testing of all functionalities.\n",
       "\n",
       "**Phase 3: Testing & Refinement (1 week)**\n",
       "\n",
       "* **User Acceptance Testing (UAT):** Conduct UAT with a representative sample of users to gather feedback on usability and identify any bugs.\n",
       "* **Iteration & Refinement:** Based on UAT feedback, iterate on the design and functionality. Address any identified bugs and usability issues.\n",
       "* **Performance Testing:** Evaluate app performance with the new feature integrated.\n",
       "\n",
       "**Phase 4: Deployment & Monitoring (1 week)**\n",
       "\n",
       "* **Deployment:** Deploy the updated app to the app stores.\n",
       "* **Monitoring:** Monitor app performance and user feedback post-launch to identify and address any unforeseen issues.\n",
       "\n",
       "**Success Criteria:**\n",
       "\n",
       "* User profile page meets design specifications and is user-friendly.\n",
       "* Social media integration is secure and reliable.\n",
       "* App performance remains stable after deployment.\n",
       "* Positive user feedback is received.\n",
       "\n",
       "\n",
       "**Iteration:**  This plan will be reviewed and adjusted based on stakeholder feedback after each phase.  A key focus will be placed on balancing feature completeness with timely delivery.\n"
      ],
      "text/plain": [
       "<IPython.core.display.Markdown object>"
      ]
     },
     "metadata": {},
     "output_type": "display_data"
    }
   ],
   "source": [
    "# Call to Gemini:\n",
    "response_tcrei = model.generate_content(tcrei_prompt_project_planning)\n",
    "display(Markdown(\"\\n### *Gemini Response*:\\n\" + response_tcrei.text))"
   ]
  },
  {
   "cell_type": "markdown",
   "id": "675837a4",
   "metadata": {
    "editable": true,
    "slideshow": {
     "slide_type": "slide"
    },
    "tags": []
   },
   "source": [
    "### **2. Everyday Scenario with RTF**\n",
    "You need to write a quick apology email for a delayed meeting.\n",
    "\n",
    "#### **RTF Breakdown**\n",
    "- **Role**: A commnity organizer\n",
    "- **Task**: Draft an email apologizing for a delay\n",
    "- **Format**: A short, formal paragraph"
   ]
  },
  {
   "cell_type": "code",
   "execution_count": null,
   "id": "960b5cc3",
   "metadata": {
    "editable": true,
    "slideshow": {
     "slide_type": "slide"
    },
    "tags": []
   },
   "outputs": [],
   "source": [
    "rtf_prompt_everyday = '''\n",
    "Role: You are Javi a community organizer.\n",
    "Task: Draft an email apologizing for the delay in scheduling a meeting.\n",
    "Format: A short, formal paragraph and subject line.\n",
    "'''\n",
    "\n",
    "# display(Markdown(\"### **RTF Prompt for Everyday Task**:\\n---\\n\" + rtf_prompt_everyday))\n",
    "\n",
    "# Call to Gemini:\n",
    "response_everyday = model.generate_content(rtf_prompt_everyday)\n",
    "display(Markdown(\"\\n### *Gemini Response*:\\n\" + response_everyday.text))\n"
   ]
  },
  {
   "cell_type": "markdown",
   "id": "90ab0c82",
   "metadata": {
    "editable": true,
    "slideshow": {
     "slide_type": "slide"
    },
    "tags": []
   },
   "source": [
    "# **Key Takeaways**\n",
    "1. **Prompt engineering** helps guide AI for better responses.\n",
    "2. **Frameworks** (CRISP, RTF, SCQA, etc.) offer clarity and consistency.\n",
    "3. **Gemini** (or any LLM) can handle these prompts—frameworks are model-agnostic.\n",
    "4. Choose a framework based on your use case (technical tasks, everyday tasks, etc.)."
   ]
  },
  {
   "cell_type": "markdown",
   "id": "b67d5455",
   "metadata": {
    "editable": true,
    "jp-MarkdownHeadingCollapsed": true,
    "slideshow": {
     "slide_type": "slide"
    },
    "tags": []
   },
   "source": [
    "## **Next Steps**\n",
    "- Explore more frameworks: **SCQA, COT, RASCEF**, etc.\n",
    "- Check out the [Gemini Cookbook](https://github.com/google-gemini/cookbook) for more examples.\n",
    "- Watch the [Google Prompting Essentials Course 1-4](https://www.youtube.com/watch?v=OQaTkeAj8UU) to learn how to craft clear, effective instructions for generative AI tools.\n",
    "- Experiment and refine prompts to see how responses change.\n",
    "\n",
    "Thank you for joining this quick tour of prompt engineering and frameworks!"
   ]
  },
  {
   "cell_type": "code",
   "execution_count": 33,
   "id": "baa06197",
   "metadata": {
    "editable": true,
    "slideshow": {
     "slide_type": "slide"
    },
    "tags": []
   },
   "outputs": [
    {
     "data": {
      "text/markdown": [
       "# **Thank you and Happy Prompting!**"
      ],
      "text/plain": [
       "<IPython.core.display.Markdown object>"
      ]
     },
     "metadata": {},
     "output_type": "display_data"
    }
   ],
   "source": [
    "display(Markdown(\"# **Thank you and Happy Prompting!**\"))"
   ]
  },
  {
   "cell_type": "markdown",
   "id": "3d56541f",
   "metadata": {
    "slideshow": {
     "slide_type": "subslide"
    }
   },
   "source": [
    "## **Access the Code and Presentation**\n",
    "\n",
    "You can find the notebook code and presentation documents in the [GitHub repository](https://github.com/JavaVista/prompt_frameworks)."
   ]
  }
 ],
 "metadata": {
  "colab": {
   "name": "prompt_frameworks_presentation.ipynb"
  },
  "kernelspec": {
   "display_name": "Python 3 (ipykernel)",
   "language": "python",
   "name": "python3"
  },
  "language_info": {
   "codemirror_mode": {
    "name": "ipython",
    "version": 3
   },
   "file_extension": ".py",
   "mimetype": "text/x-python",
   "name": "python",
   "nbconvert_exporter": "python",
   "pygments_lexer": "ipython3",
   "version": "3.11.1"
  }
 },
 "nbformat": 4,
 "nbformat_minor": 5
}
