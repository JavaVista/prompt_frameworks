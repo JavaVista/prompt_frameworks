{
 "cells": [
  {
   "cell_type": "markdown",
   "id": "95f758e7",
   "metadata": {
    "editable": false,
    "slideshow": {
     "slide_type": "slide"
    },
    "tags": []
   },
   "source": [
    "# **Prompt Engineering & Frameworks**\n",
    "\n",
    "Welcome to this presentation on **Prompt Engineering** and how different **Prompt Frameworks** can help you get the best results from AI models. We’ll also see how to incorporate Google’s **Gemini** for both **developer** and **everyday** tasks."
   ]
  },
  {
   "cell_type": "markdown",
   "id": "33965083",
   "metadata": {
    "editable": false,
    "slideshow": {
     "slide_type": "slide"
    },
    "tags": []
   },
   "source": [
    "## **What Is Prompt Engineering?**\n",
    "\n",
    "**Prompt engineering** is all about crafting the right instructions for large language models (LLMs). By providing the appropriate context, format, style, or audience details, you help the AI produce more accurate and relevant answers.\n",
    "\n",
    "### **Why Use Prompt Frameworks?**\n",
    "- They provide **clarity**—ensuring you specify crucial information up front.\n",
    "- They keep prompts **consistent**—useful for repeated tasks or multiple requests.\n",
    "- They reduce **ambiguity**—leading to fewer misinterpretations and better AI outputs."
   ]
  },
  {
   "cell_type": "markdown",
   "id": "72eda6f5",
   "metadata": {
    "editable": false,
    "slideshow": {
     "slide_type": "slide"
    },
    "tags": []
   },
   "source": [
    "## **Popular Prompt Frameworks**\n",
    "Below is a table of frameworks, their strengths, weaknesses/limitations, whether they’re good for developer (Dev) tasks or everyday tasks, plus a sample usage.\n",
    "\n",
    "| **Framework (Abbrev.)** | **Strengths**                                        | **Weaknesses / Limitations**                                                           | **Good for Dev?**                                                     | **Good for Everyday?**                                                 | **Example Usage**                                                                                                                                                                     |\n",
    "|-------------------------|-------------------------------------------------------|----------------------------------------------------------------------------------------|----------------------------------------------------------------------|------------------------------------------------------------------------|-----------------------------------------------------------------------------------------------------------------------------------------------------------------------------------------|\n",
    "| **CRISP (CRISP)**  | - Clear breakdown of context/steps<br>- Purpose-driven approach        | - Can be too detailed for quick tasks<br>- Requires clarity in each step               | **Yes** (Great for detailing tech context, steps)                      | Possibly (Might be overkill for casual tasks)                           | “You are a backend engineer. Given the system architecture (Context), fix the login bug. Outline steps to debug and provide a summary (Steps & Purpose).”                                                                     |\n",
    "| **RACI (RACI)**   | - Focus on role, audience, channel<br>- Good for organizing communication tasks | - Lacks explicit step-by-step logic<br>- Less emphasis on purpose or outcomes           | Maybe (If devs need to consider different stakeholders)               | **Yes** (Ideal for clarifying who’s the target audience, how to respond) | “You are a historian (Role). The audience is a beginner (Audience). Present in a short paragraph (Channel). I want a high-level overview for a meeting (Intent).”                                                            |\n",
    "| **SCQA (SCQA)**   | - Story-like structure (Situation → Complication → Question → Answer)<br>- Great for problem-solving/narratives | - Less explicit about format or role<br>- Not always ideal for highly technical tasks    | Maybe (Explaining a complex bug/scenario)                             | **Yes** (Useful for framing everyday problems)                          | “Our current payroll system is outdated (Situation). We’re missing deadlines (Complication). How to reduce errors? (Question). Provide a recommended upgrade plan (Answer).”                                                 |\n",
    "| **PACER (PACER)** | - Encourages iterative refinement<br>- Built-in evaluation/check step     | - Longer prompt structure<br>- Might be too involved for quick tasks                    | **Yes** (Step-by-step clarity, especially for coding)                 | Possibly (If you want an iterative process for personal tasks)           | “Plan how to organize the code repository (Plan). Implement the refactoring (Act). Explain your approach (Clarify). Check for performance issues (Evaluate). Suggest improvements (Refine).”                                  |\n",
    "| **PEEL (PEEL)**   | - Simple yet captures context & examples<br>- Good for specifying format | - Limited persona/role specification<br>- Lacks explicit audience segment               | Maybe (If dev tasks require examples/clarifications)                  | **Yes** (Everyday tasks often benefit from examples)                     | “Prompt: ‘Draft a short thank-you note.’ Explanation: ‘It’s for a client meeting recap.’ Example: ‘Here’s the style I use.’ Link: ‘Ensure it stays professional.’”                                                            |\n",
    "| **Chain-of-Thought (COT)** | - Encourages explicit reasoning<br>- Clarifies complex processes | - Can get verbose if you show every reasoning step<br>- May slow response time          | **Yes** (Excellent for debugging/problem-solving)                      | Possibly (If you want step-by-step reasoning)                            | “Explain how you arrived at each conclusion for optimizing this code, step by step. Then provide the final solution.”                                                                                                          |\n",
    "| **HARPA (HARPA)** | - Hooks attention effectively<br>- Built-in feedback loop               | - Less emphasis on role/context<br>- Broad structure might need more detail for dev tasks | Maybe (Short, structured approach for dev questions)                  | **Yes** (Natural flow for everyday/persuasive requests)                  | “Hook: ‘Feeling stuck with your resume?’ Ask: ‘Please help me improve it.’ Respond: (AI suggestions). Provide: ‘Here’s my feedback on your suggestions.’ Answer: ‘Refine final draft.’”                                         |\n",
    "| **RTF (RTF)**     | - Very straightforward (Role, Task, Format)<br>- Quick to implement      | - Minimal context<br>- May need extra instructions for complex tasks                    | **Yes** (Quick dev tasks, like small bug fixes)                        | **Yes** (Perfect for short emails, texts, or quick tasks)                | “Role: ‘You’re a personal assistant.’ Task: ‘Draft an email apologizing for a delay.’ Format: ‘Short paragraph.’”                                                                                                              |\n",
    "| **CTF (CTF)**     | - Emphasizes context and task<br>- Easy to adapt                       | - Doesn’t specify role/audience<br>- Might need extra instructions for tone/style       | **Yes** (Great for code context & clarifying the task)                | **Yes** (Useful to ensure clarity in everyday requests)                  | “Context: ‘We’re planning a party with a tight budget.’ Task: ‘Suggest three cost-saving ideas.’ Format: ‘Bullet points.’”                                                                                                       |\n",
    "| **RASCEF (RASCEF)** | - Comprehensive (Role, Audience, Style, Context, Examples, Format)<br>- Great for targeted communication | - Can be lengthy<br>- Might over-specify and limit creativity                           | Maybe (If dev comms need multiple perspectives)                         | **Yes** (Ideal for formal or varied social/business situations)           | “Role: ‘You’re a career counselor.’ Audience: ‘Recent grads.’ Style: ‘Friendly yet professional.’ Context: ‘Tips for a job fair.’ Examples: ‘Show a sample intro speech.’ Format: ‘Numbered list.’”                              |\n"
   ]
  },
  {
   "cell_type": "markdown",
   "id": "423c99f5",
   "metadata": {
    "editable": true,
    "slideshow": {
     "slide_type": "slide"
    },
    "tags": []
   },
   "source": [
    "## **Using Gemini**\n",
    "We’ll demonstrate how to import Gemini (as per [Google’s Gemini Cookbook](https://github.com/google-gemini/cookbook)) and use these frameworks for two scenarios:\n",
    "1. A **developer** scenario (using **CRISP**)\n",
    "2. An **everyday** scenario (using **RTF**)\n",
    "\n",
    "Feel free to adapt these examples to any other framework."
   ]
  },
  {
   "cell_type": "code",
   "execution_count": 16,
   "id": "a3eb6b9d",
   "metadata": {
    "editable": true,
    "slideshow": {
     "slide_type": "fragment"
    },
    "tags": []
   },
   "outputs": [],
   "source": [
    "# Example code to import Gemini\n",
    "# (Adapted from https://github.com/google-gemini/cookbook)\n",
    "import sys\n",
    "import os\n",
    "from dotenv import load_dotenv\n",
    "from IPython.display import display, Markdown\n",
    "try:\n",
    "    import google.generativeai as genai\n",
    "except ImportError:\n",
    "    print(\"Gemini API not installed. Please install or reference the correct package.\")\n",
    "    sys.exit(0)\n",
    "\n",
    "load_dotenv()\n",
    "\n",
    "# genai.configure(api_key=\"YOUR_API_KEY\")\n",
    "genai.configure(api_key=os.getenv('GEMINI_API_KEY'))\n"
   ]
  },
  {
   "cell_type": "markdown",
   "id": "8e690b03",
   "metadata": {
    "editable": true,
    "slideshow": {
     "slide_type": "slide"
    },
    "tags": []
   },
   "source": [
    "### **1. Developer Scenario with CRISP**\n",
    "Imagine you have a Node.js application returning 500 errors. You suspect an issue in a specific piece of middleware.\n",
    "\n",
    "#### **CRISP Breakdown**\n",
    "- **Context**: Node.js, HTTP 500 errors suspected in middleware.\n",
    "- **Role**: You are a senior backend engineer.\n",
    "- **Input**: Provide snippet of the middleware.\n",
    "- **Steps**: Outline debugging approach.\n",
    "- **Purpose**: Fix the 500 errors and return correct status codes."
   ]
  },
  {
   "cell_type": "code",
   "execution_count": 23,
   "id": "7774386e",
   "metadata": {
    "editable": true,
    "slideshow": {
     "slide_type": "slide"
    },
    "tags": []
   },
   "outputs": [],
   "source": [
    "crisp_prompt_dev = '''\n",
    "Context: We have a Node.js app returning 500 errors on all endpoints.\n",
    "Role: You are a senior backend engineer.\n",
    "Input: Here is the middleware code:\n",
    "```\n",
    "app.use((req, res, next) => {\n",
    "  if (!req.headers['x-api-key']) {\n",
    "    res.status(401).json({ error: 'Unauthorized' });\n",
    "  } else {\n",
    "    next();\n",
    "  }\n",
    "});\n",
    "```\n",
    "Steps: Explain how you would debug this in very concise way, and propose code fixes.\n",
    "Purpose: We want to remove 500 errors, returning 401 if the API key is missing.\n",
    "'''\n",
    "model = genai.GenerativeModel('gemini-1.5-flash')\n",
    "\n",
    "framework_prompt = \"### **CRISP Prompt for Developer**:\\n---\\n\" + crisp_prompt_dev\n",
    "\n",
    "# display(Markdown(framework_prompt))"
   ]
  },
  {
   "cell_type": "code",
   "execution_count": 22,
   "id": "dd05a9fb",
   "metadata": {
    "editable": true,
    "slideshow": {
     "slide_type": "slide"
    },
    "tags": []
   },
   "outputs": [
    {
     "data": {
      "text/markdown": [
       "\n",
       "### *Gemini Response*:\n",
       "Debugging Steps:\n",
       "\n",
       "1. **Check logs:** Examine Node.js application logs for errors occurring *after* the middleware.  500 errors originate after the middleware completes execution.\n",
       "2. **Simplify:** Temporarily comment out all routes and middleware *after* the provided snippet to isolate the problem. If 500 errors persist, the issue lies within the middleware itself (unlikely given the code). Otherwise, the problem is in subsequent code.\n",
       "3. **Test:** Make requests *with* and *without* the `x-api-key` header to confirm expected 401 and successful responses (if subsequent code works).\n",
       "\n",
       "\n",
       "Code Fix (if problem isn't in subsequent code):  The provided middleware is correctly handling the missing API key.  The 500 errors are elsewhere.  No code changes are needed to this snippet *unless* step 2 reveals a problem *within* this middleware (highly unlikely given the simple nature of the code).  The solution will involve debugging the routes and other middleware that follow this one.\n",
       "\n",
       "\n",
       "If logs show errors *after* this middleware, focus debugging efforts there.  Example: wrap subsequent code in `try...catch` blocks to gracefully handle exceptions and return appropriate error responses (4xx or 5xx as needed).  Example of adding `try...catch` to a route handler:\n",
       "\n",
       "```javascript\n",
       "app.get('/myroute', (req, res) => {\n",
       "  try {\n",
       "    // Your route logic here\n",
       "    const result = await someAsyncOperation();\n",
       "    res.json(result);\n",
       "  } catch (error) {\n",
       "    console.error(\"Error in /myroute:\", error); //Log the specific error for debugging\n",
       "    res.status(500).json({ error: 'Internal Server Error' }); //Or more specific error if possible\n",
       "  }\n",
       "});\n",
       "```\n"
      ],
      "text/plain": [
       "<IPython.core.display.Markdown object>"
      ]
     },
     "metadata": {},
     "output_type": "display_data"
    }
   ],
   "source": [
    "# Call to Gemini:\n",
    "response_dev = model.generate_content(crisp_prompt_dev)\n",
    "display(Markdown(\"\\n### *Gemini Response*:\\n\" + response_dev.text))"
   ]
  },
  {
   "cell_type": "markdown",
   "id": "675837a4",
   "metadata": {
    "editable": true,
    "slideshow": {
     "slide_type": "slide"
    },
    "tags": []
   },
   "source": [
    "### **2. Everyday Scenario with RTF**\n",
    "You need to write a quick apology email for a delayed meeting.\n",
    "\n",
    "#### **RTF Breakdown**\n",
    "- **Role**: A polite personal assistant\n",
    "- **Task**: Draft an email apologizing for a delay\n",
    "- **Format**: A short, formal paragraph"
   ]
  },
  {
   "cell_type": "code",
   "execution_count": 19,
   "id": "960b5cc3",
   "metadata": {
    "editable": true,
    "slideshow": {
     "slide_type": "slide"
    },
    "tags": []
   },
   "outputs": [
    {
     "data": {
      "text/markdown": [
       "\n",
       "### *Gemini Response*:\n",
       "Subject: Apology for Delay in Scheduling Our Meeting\n",
       "\n",
       "Dear [Recipient Name],\n",
       "\n",
       "Please accept my sincerest apologies for the delay in scheduling our meeting.  I have been experiencing an unexpectedly high volume of requests recently, which has unfortunately impacted my ability to respond promptly. I am now available to meet on [Suggest a few dates/times]. Please let me know which option works best for you.  Thank you for your understanding.\n"
      ],
      "text/plain": [
       "<IPython.core.display.Markdown object>"
      ]
     },
     "metadata": {},
     "output_type": "display_data"
    }
   ],
   "source": [
    "rtf_prompt_everyday = '''\n",
    "Role: You are a polite personal assistant.\n",
    "Task: Draft an email apologizing for the delay in scheduling a meeting.\n",
    "Format: A short, formal paragraph and subject line.\n",
    "'''\n",
    "\n",
    "# display(Markdown(\"### **RTF Prompt for Everyday Task**:\\n---\\n\" + rtf_prompt_everyday))\n",
    "\n",
    "# Call to Gemini:\n",
    "response_everyday = model.generate_content(rtf_prompt_everyday)\n",
    "display(Markdown(\"\\n### *Gemini Response*:\\n\" + response_everyday.text))\n"
   ]
  },
  {
   "cell_type": "markdown",
   "id": "90ab0c82",
   "metadata": {
    "editable": true,
    "slideshow": {
     "slide_type": "slide"
    },
    "tags": []
   },
   "source": [
    "# **Key Takeaways**\n",
    "1. **Prompt engineering** helps guide AI for better responses.\n",
    "2. **Frameworks** (CRISP, RTF, SCQA, etc.) offer clarity and consistency.\n",
    "3. **Gemini** (or any LLM) can handle these prompts—frameworks are model-agnostic.\n",
    "4. Choose a framework based on your use case (technical tasks, everyday tasks, etc.)."
   ]
  },
  {
   "cell_type": "markdown",
   "id": "b67d5455",
   "metadata": {
    "editable": true,
    "slideshow": {
     "slide_type": "slide"
    },
    "tags": []
   },
   "source": [
    "## **Next Steps**\n",
    "- Explore more frameworks: **PACER, PEEL, CTF, RASCEF**, etc.\n",
    "- Check out the [Gemini Cookbook](https://github.com/google-gemini/cookbook) for more examples.\n",
    "- Experiment and refine prompts to see how responses change.\n",
    "\n",
    "Thank you for joining this quick tour of prompt engineering and frameworks!"
   ]
  },
  {
   "cell_type": "code",
   "execution_count": 20,
   "id": "baa06197",
   "metadata": {
    "editable": true,
    "slideshow": {
     "slide_type": "slide"
    },
    "tags": []
   },
   "outputs": [
    {
     "data": {
      "text/markdown": [
       "# **Thank you and Happy Prompting!**"
      ],
      "text/plain": [
       "<IPython.core.display.Markdown object>"
      ]
     },
     "metadata": {},
     "output_type": "display_data"
    }
   ],
   "source": [
    "display(Markdown(\"# **Thank you and Happy Prompting!**\"))"
   ]
  }
 ],
 "metadata": {
  "colab": {
   "name": "prompt_frameworks_presentation.ipynb"
  },
  "kernelspec": {
   "display_name": "Python 3 (ipykernel)",
   "language": "python",
   "name": "python3"
  },
  "language_info": {
   "codemirror_mode": {
    "name": "ipython",
    "version": 3
   },
   "file_extension": ".py",
   "mimetype": "text/x-python",
   "name": "python",
   "nbconvert_exporter": "python",
   "pygments_lexer": "ipython3",
   "version": "3.13.1"
  }
 },
 "nbformat": 4,
 "nbformat_minor": 5
}
